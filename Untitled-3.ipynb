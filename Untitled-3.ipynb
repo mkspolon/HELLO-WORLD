{
 "cells": [
  {
   "cell_type": "code",
   "execution_count": 3,
   "metadata": {},
   "outputs": [],
   "source": [
    "import numpy as np\n",
    "import matplotlib.pyplot as plt\n",
    "from matplotlib.patches import Polygon"
   ]
  },
  {
   "cell_type": "code",
   "execution_count": 38,
   "metadata": {},
   "outputs": [
    {
     "data": {
      "text/plain": [
       "<matplotlib.patches.Polygon at 0x21c942b03a0>"
      ]
     },
     "execution_count": 38,
     "metadata": {},
     "output_type": "execute_result"
    },
    {
     "data": {
      "image/png": "[encoded data removed]",
      "text/plain": [
       "<Figure size 432x288 with 1 Axes>"
      ]
     },
     "metadata": {
      "needs_background": "light"
     },
     "output_type": "display_data"
    }
   ],
   "source": [
    "fig, ax = plt.subplots()\n",
    "ax.set_ylim([0,20])\n",
    "ax.set_xlim([-10,10])\n",
    "ax.axis('scaled')\n",
    "\n",
    "start_x = -2.5\n",
    "start_y = 2\n",
    "width = 5\n",
    "height = 6\n",
    "facecolor = 'gray'\n",
    "\n",
    "rectangle = plt.Rectangle((start_x,start_y), width, height, fc=facecolor)\n",
    "ax.add_patch(rectangle)\n",
    "\n",
    "rectangle = plt.Rectangle((-0.5,2),1,2, fc=\"brown\")\n",
    "ax.add_patch(rectangle)\n",
    "\n",
    "radius = 0.5\n",
    "circle = plt.Circle((-1,6), radius, fc='yellow', ec='black', lw=1)\n",
    "#fc = face color, ec = edgecolor , lw linewidth\n",
    "ax.add_patch(circle)\n",
    "\n",
    "start_xy = np.array([-2.5,8])\n",
    "end_xy = np.array([2.5,8])\n",
    "top_xy = np.array([0,12])\n",
    "\n",
    "triangle = Polygon(np.vstack([start_xy,end_xy, top_xy]),color='red')\n",
    "ax.add_patch(triangle)"
   ]
  }
 ],
 "metadata": {
  "interpreter": {
   "hash": "f244901a1cefac460a7f1ec92d059106258d57f2a6ff27407b0c4aa071020808"
  },
  "kernelspec": {
   "display_name": "Python 3.10.0 64-bit",
   "language": "python",
   "name": "python3"
  },
  "language_info": {
   "codemirror_mode": {
    "name": "ipython",
    "version": 3
   },
   "file_extension": ".py",
   "mimetype": "text/x-python",
   "name": "python",
   "nbconvert_exporter": "python",
   "pygments_lexer": "ipython3",
   "version": "3.10.0"
  },
  "orig_nbformat": 4
 },
 "nbformat": 4,
 "nbformat_minor": 2
}
